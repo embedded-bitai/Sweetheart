{
 "cells": [
  {
   "cell_type": "code",
   "execution_count": 1,
   "metadata": {},
   "outputs": [
    {
     "name": "stdout",
     "output_type": "stream",
     "text": [
      "Requirement already satisfied: flask_cors in /home/bitai/anaconda3/lib/python3.7/site-packages (3.0.9)\n",
      "Requirement already satisfied: Six in /home/bitai/anaconda3/lib/python3.7/site-packages (from flask_cors) (1.14.0)\n",
      "Requirement already satisfied: Flask>=0.9 in /home/bitai/anaconda3/lib/python3.7/site-packages (from flask_cors) (1.1.1)\n",
      "Requirement already satisfied: itsdangerous>=0.24 in /home/bitai/anaconda3/lib/python3.7/site-packages (from Flask>=0.9->flask_cors) (1.1.0)\n",
      "Requirement already satisfied: Jinja2>=2.10.1 in /home/bitai/anaconda3/lib/python3.7/site-packages (from Flask>=0.9->flask_cors) (2.11.1)\n",
      "Requirement already satisfied: click>=5.1 in /home/bitai/anaconda3/lib/python3.7/site-packages (from Flask>=0.9->flask_cors) (7.0)\n",
      "Requirement already satisfied: Werkzeug>=0.15 in /home/bitai/anaconda3/lib/python3.7/site-packages (from Flask>=0.9->flask_cors) (1.0.0)\n",
      "Requirement already satisfied: MarkupSafe>=0.23 in /home/bitai/anaconda3/lib/python3.7/site-packages (from Jinja2>=2.10.1->Flask>=0.9->flask_cors) (1.1.1)\n"
     ]
    }
   ],
   "source": [
    "!pip install flask_cors"
   ]
  },
  {
   "cell_type": "code",
   "execution_count": 2,
   "metadata": {},
   "outputs": [],
   "source": [
    "import cv2\n",
    "import numpy as np\n",
    "from flask import Flask\n",
    "from flask_restful import Api\n",
    "from flask_cors import CORS\n",
    "import os\n",
    "from os import listdir\n",
    "from os.path import isfile, join\n",
    "import shutil"
   ]
  },
  {
   "cell_type": "code",
   "execution_count": 3,
   "metadata": {},
   "outputs": [],
   "source": [
    "#얼굴 저장 함수\n",
    "face_dirs = 'faces/'\n",
    "face_classifier = cv2.CascadeClassifier('haarcascade_frontalface_default.xml')"
   ]
  },
  {
   "cell_type": "code",
   "execution_count": 4,
   "metadata": {},
   "outputs": [],
   "source": [
    "#얼굴 검출 함수\n",
    "def face_extractor(img):\n",
    "    gray = cv2.cvtColor(img,cv2.COLOR_BGR2GRAY)\n",
    "    faces = face_classifier.detectMultiScale(gray,1.3,5)\n",
    "    #얼굴이 없으면 패스!\n",
    "    if faces is():\n",
    "        return None\n",
    "    # 얼굴이 있으면 얼굴 부위만 이미지로 만든다\n",
    "    for(x,y,w,h) in faces:\n",
    "        cropped_face = img[y:y+h, x:x+w]\n",
    "\n",
    "    return cropped_face"
   ]
  },
  {
   "cell_type": "code",
   "execution_count": 5,
   "metadata": {},
   "outputs": [],
   "source": [
    "# 카메라 ON\n",
    "def face_detection():\n",
    "    print('face_detection()')\n",
    "    cap = cv2.VideoCapture(0)\n",
    "    count = 0\n",
    "    while True:\n",
    "        # 카메라로 부터 사진 한장 읽어 오기\n",
    "        ret, frame = cap.read()\n",
    "        # 얼굴 감지 하여 얼굴만 가져오기\n",
    "        if face_extractor(frame) is not None:\n",
    "            count += 1\n",
    "            # 얼굴 이미지 크기르 200 x 200으로 조정\n",
    "            face = cv2.resize(face_extractor(frame), (200, 200))\n",
    "            # 조정된 이미지를 흑백으로 변환\n",
    "            face = cv2.cvtColor(face, cv2.COLOR_BGR2GRAY)\n",
    "            # faces폴더에 jpg파일로 저장\n",
    "            file_name_path = 'faces/user' + str(count) + '.jpg'\n",
    "            cv2.imwrite(file_name_path, face)\n",
    "            # 화면에 얼굴과 현재 저장 개수 표시\n",
    "            cv2.putText(face, str(count), (50, 50), cv2.FONT_HERSHEY_COMPLEX, 1, (0, 255, 0), 2)\n",
    "            cv2.imshow('Face Cropper', face)\n",
    "        else:\n",
    "            print(\"Face not Found\")\n",
    "            pass\n",
    "\n",
    "        if cv2.waitKey(1) == 13:\n",
    "            break\n",
    "\n",
    "    cap.release()\n",
    "    cv2.destroyAllWindows()\n",
    "    print('Colleting Samples Complete!!!')\n",
    "\n",
    "    return 'register'"
   ]
  },
  {
   "cell_type": "code",
   "execution_count": 6,
   "metadata": {},
   "outputs": [],
   "source": [
    "def face_learning():\n",
    "    print('face_learning()')\n",
    "    data_path = 'faces/'\n",
    "    # faces폴데 있는 파일 리스트 얻기\n",
    "    onlyfiles = [f for f in listdir(data_path) if isfile(join(data_path, f))]\n",
    "    # 데이터와 매칭될 라벨 변수\n",
    "    Training_Data, Labels = [], []\n",
    "    # 파일 개수 만큼 루프\n",
    "    for i, files in enumerate(onlyfiles):\n",
    "        image_path = data_path + onlyfiles[i]\n",
    "        # 이미지 불러오기\n",
    "        images = cv2.imread(image_path, cv2.IMREAD_GRAYSCALE)\n",
    "        # 이미지 파일이 아니거나 못 읽어 왔다면 무시\n",
    "        Training_Data.append(np.asarray(images, dtype=np.uint8))\n",
    "        # Labels 리스트엔 카운트 번호 추가\n",
    "        Labels.append(i)\n",
    "\n",
    "    # Labels를 32비트 정수로 변환\n",
    "    Labels = np.asarray(Labels, dtype=np.int32)\n",
    "    # 모델 생성\n",
    "    model = cv2.face.LBPHFaceRecognizer_create()\n",
    "    # 학습 시작\n",
    "    model.train(np.asarray(Training_Data), np.asarray(Labels))\n",
    "\n",
    "    print(\"Model Training Complete!!!!!\")\n",
    "\n",
    "    return \"learning\""
   ]
  },
  {
   "cell_type": "code",
   "execution_count": 7,
   "metadata": {},
   "outputs": [],
   "source": [
    "def face_detector(img):\n",
    "    gray = cv2.cvtColor(img, cv2.COLOR_BGR2GRAY)\n",
    "    faces = face_classifier.detectMultiScale(gray, 1.3, 5)\n",
    "\n",
    "    if faces is ():\n",
    "        return img, []\n",
    "\n",
    "    for (x, y, w, h) in faces:\n",
    "        cv2.rectangle(img, (x, y), (x + w, y + h), (0, 255, 255), 2)\n",
    "        roi = img[y:y + h, x:x + w]\n",
    "        roi = cv2.resize(roi, (200, 200))\n",
    "\n",
    "    return img, roi"
   ]
  },
  {
   "cell_type": "code",
   "execution_count": 8,
   "metadata": {},
   "outputs": [],
   "source": [
    "def face_login():\n",
    "    print('face_login()')\n",
    "    data_path = 'faces/'\n",
    "    onlyfiles = [f for f in listdir(data_path) if isfile(join(data_path, f))]\n",
    "\n",
    "    Training_Data, Labels = [], []\n",
    "\n",
    "    for i, files in enumerate(onlyfiles):\n",
    "        image_path = data_path + onlyfiles[i]\n",
    "        images = cv2.imread(image_path, cv2.IMREAD_GRAYSCALE)\n",
    "        Training_Data.append(np.asarray(images, dtype=np.uint8))\n",
    "        Labels.append(i)\n",
    "\n",
    "    Labels = np.asarray(Labels, dtype=np.int32)\n",
    "    model = cv2.face.LBPHFaceRecognizer_create()\n",
    "    model.train(np.asarray(Training_Data), np.asarray(Labels))\n",
    "\n",
    "    # 카메라 열기\n",
    "    cam = cv2.VideoCapture(0)\n",
    "    while True:\n",
    "        # 카메라로 부터 사진 한장 읽기\n",
    "        ret, frame = cam.read()\n",
    "        # 얼굴 검출 시도\n",
    "        image, face = face_detector(frame)\n",
    "\n",
    "        try:\n",
    "            # 검출된 사진을 흑백으로 변환\n",
    "            face = cv2.cvtColor(face, cv2.COLOR_BGR2GRAY)\n",
    "            # 위에서 학습된 모델로 예측시도\n",
    "            result = model.predict(face)\n",
    "            # result[1]은 신뢰도이고 0에 가까울수록 동일인물이라는 뜻\n",
    "            if result[1] < 500:\n",
    "                confidence = int(100 * (1 - (result[1]) / 300))\n",
    "                # 유사도 화면에 표시\n",
    "                display_string = str(confidence) + '% Confidence it is user'\n",
    "                cv2.putText(image, display_string, (100, 120), cv2.FONT_HERSHEY_COMPLEX, 1, (250, 120, 255), 2)\n",
    "\n",
    "            # 80 이상이면 동일 인물(수정가능)\n",
    "            if confidence > 80:\n",
    "                cv2.putText(image, \"Unlocked\", (250, 450), cv2.FONT_HERSHEY_COMPLEX, 1, (0, 255, 0), 2)\n",
    "                cv2.imshow('Face Login', image)\n",
    "                break\n",
    "\n",
    "\n",
    "            else:\n",
    "                # 80 이하면 locked\n",
    "                cv2.putText(image, \"Locked\", (250, 450), cv2.FONT_HERSHEY_COMPLEX, 1, (0, 0, 255), 2)\n",
    "                cv2.imshow('Face Login', image)\n",
    "\n",
    "        except:\n",
    "            # 얼굴 검출 안됨\n",
    "            cv2.putText(image, \"Face Not Found\", (250, 450), cv2.FONT_HERSHEY_COMPLEX, 1, (255, 0, 0), 2)\n",
    "            cv2.imshow('Face Login', image)\n",
    "            pass\n",
    "\n",
    "        # 키보드 입력 대기 함수, 입력 값이 엔터일 경우 종료\n",
    "        if cv2.waitKey(1) == 13:\n",
    "            break\n",
    "\n",
    "    # 오픈한 캡쳐 객체 해제\n",
    "    cam.release()\n",
    "    # 화면에 나타는 윈도우 종료\n",
    "    cv2.destroyAllWindows()\n",
    "    print('Face Login Success!!!!')\n",
    "\n",
    "    return \"Success\""
   ]
  },
  {
   "cell_type": "code",
   "execution_count": 11,
   "metadata": {},
   "outputs": [
    {
     "name": "stdout",
     "output_type": "stream",
     "text": [
      "CMake Error: The source directory \"/home/bitai/proj/Sweetheart/proj/python\" does not appear to contain CMakeLists.txt.\r\n",
      "Specify --help for usage, or press the help button on the CMake GUI.\r\n"
     ]
    }
   ],
   "source": [
    "!cmake .. -DCMAKE_BUILD_TYPE=RELEASE -DCMAKE_INSTALL_PREFIX=/usr/local -DWITH_GTK=ON -DWITH_FFMPEG=1 "
   ]
  },
  {
   "cell_type": "code",
   "execution_count": 9,
   "metadata": {},
   "outputs": [
    {
     "name": "stdout",
     "output_type": "stream",
     "text": [
      " * Serving Flask app \"__main__\" (lazy loading)\n",
      " * Environment: production\n",
      "   WARNING: This is a development server. Do not use it in a production deployment.\n",
      "   Use a production WSGI server instead.\n",
      " * Debug mode: off\n"
     ]
    },
    {
     "name": "stderr",
     "output_type": "stream",
     "text": [
      " * Running on http://localhost:5000/ (Press CTRL+C to quit)\n"
     ]
    },
    {
     "name": "stdout",
     "output_type": "stream",
     "text": [
      "on_face_login()\n",
      "face_login()\n"
     ]
    },
    {
     "name": "stderr",
     "output_type": "stream",
     "text": [
      "127.0.0.1 - - [29/Oct/2020 11:32:45] \"\u001b[37mGET /faceLogin HTTP/1.1\u001b[0m\" 200 -\n"
     ]
    },
    {
     "name": "stdout",
     "output_type": "stream",
     "text": [
      "Face Login Success!!!!\n",
      "face_login() return: Success\n",
      "on_face_login()\n",
      "face_login()\n"
     ]
    }
   ],
   "source": [
    "app = Flask(__name__)\n",
    "api = Api(app)\n",
    "CORS(app, resources={r'/*': {'origins': '*'}})\n",
    "\n",
    "@app.route('/faceDetection', methods=['POST'])\n",
    "def on_face_register():\n",
    "    os.makedirs('faces', exist_ok=True)\n",
    "    print('face_register()')\n",
    "    registerResult = face_detection()\n",
    "    print('face register return(): ' + registerResult)\n",
    "\n",
    "    return registerResult\n",
    "\n",
    "@app.route('/faceLearning', methods=['POST'])\n",
    "def on_face_learning():\n",
    "    print('on_face_learning()')\n",
    "    learningResult = face_learning()\n",
    "    print('face learning return(): ' + learningResult)\n",
    "\n",
    "    return learningResult\n",
    "\n",
    "@app.route('/faceLogin', methods=['GET'])\n",
    "def on_face_login():\n",
    "    print('on_face_login()')\n",
    "    loginResult = face_login()\n",
    "    print('face_login() return: ' + loginResult)\n",
    "\n",
    "    return loginResult\n",
    "\n",
    "@app.route('/rmFaceDir', methods=['POST'])\n",
    "def on_rm_face_img():\n",
    "    print('rm_face_img()')\n",
    "    shutil.rmtree('faces')\n",
    "\n",
    "    return 'remove faces directory'\n",
    "\n",
    "if __name__ == '__main__':\n",
    "    app.run(host='localhost', port=os.getenv('FLASK_RUN_PORT'), debug=os.getenv('FLASK_DEBUG'))"
   ]
  },
  {
   "cell_type": "code",
   "execution_count": null,
   "metadata": {},
   "outputs": [],
   "source": []
  }
 ],
 "metadata": {
  "kernelspec": {
   "display_name": "Python 3",
   "language": "python",
   "name": "python3"
  },
  "language_info": {
   "codemirror_mode": {
    "name": "ipython",
    "version": 3
   },
   "file_extension": ".py",
   "mimetype": "text/x-python",
   "name": "python",
   "nbconvert_exporter": "python",
   "pygments_lexer": "ipython3",
   "version": "3.7.6"
  }
 },
 "nbformat": 4,
 "nbformat_minor": 4
}
